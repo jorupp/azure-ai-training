{
 "cells": [
  {
   "cell_type": "code",
   "execution_count": null,
   "metadata": {},
   "outputs": [],
   "source": [
    "import os\n",
    "import azure.ai.vision as sdk\n",
    "\n",
    "from dotenv import load_dotenv\n",
    "\n",
    "load_dotenv()  # take environment variables from .env.\n",
    "\n",
    "service_options = sdk.VisionServiceOptions(os.environ[\"VISION_ENDPOINT\"],\n",
    "                                           os.environ[\"VISION_KEY\"])"
   ]
  },
  {
   "cell_type": "code",
   "execution_count": null,
   "metadata": {},
   "outputs": [],
   "source": [
    "\n",
    "image_source = sdk.VisionSource(url=os.environ[\"IMAGE_URL\"])\n",
    "\n",
    "options = sdk.ImageAnalysisOptions()\n",
    "\n",
    "options.features = (\n",
    "    sdk.ImageAnalysisFeature.PEOPLE |\n",
    "    sdk.ImageAnalysisFeature.CROP_SUGGESTIONS |\n",
    "    sdk.ImageAnalysisFeature.TAGS |\n",
    "    sdk.ImageAnalysisFeature.DENSE_CAPTIONS |\n",
    "    sdk.ImageAnalysisFeature.OBJECTS |\n",
    "    sdk.ImageAnalysisFeature.CAPTION |\n",
    "    sdk.ImageAnalysisFeature.TEXT \n",
    ")\n",
    "\n",
    "options.language = \"en\"\n",
    "options.gender_neutral_caption = True\n",
    "\n",
    "image_analyzer = sdk.ImageAnalyzer(service_options, image_source, options)\n",
    "\n",
    "result = image_analyzer.analyze()"
   ]
  },
  {
   "cell_type": "code",
   "execution_count": null,
   "metadata": {},
   "outputs": [],
   "source": [
    "print(result.caption)\n",
    "print(result.crop_suggestions)\n",
    "for i in result.dense_captions:\n",
    "    print(i)\n",
    "for i in result.objects:\n",
    "    print(i)\n",
    "for i in result.tags:\n",
    "    print(i)\n",
    "for i in result.people:\n",
    "    print(i)\n",
    "print(result.reason)\n",
    "print(result.text)\n",
    "\n",
    "\n",
    "\n",
    "\n",
    "\n"
   ]
  }
 ],
 "metadata": {
  "kernelspec": {
   "display_name": ".venv",
   "language": "python",
   "name": "python3"
  },
  "language_info": {
   "codemirror_mode": {
    "name": "ipython",
    "version": 3
   },
   "file_extension": ".py",
   "mimetype": "text/x-python",
   "name": "python",
   "nbconvert_exporter": "python",
   "pygments_lexer": "ipython3",
   "version": "3.9.0"
  }
 },
 "nbformat": 4,
 "nbformat_minor": 2
}
